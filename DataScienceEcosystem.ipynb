{
 "cells": [
  {
   "cell_type": "markdown",
   "id": "72279d4a-d33f-40fb-b235-2301bab6a292",
   "metadata": {},
   "source": [
    "# Data Science Tools and Ecosystem"
   ]
  },
  {
   "cell_type": "markdown",
   "id": "db2395b5-9150-4a23-b788-e099b8f4e5d7",
   "metadata": {},
   "source": [
    "In this notebook, Data Science Tools and Ecosystem are summarized."
   ]
  },
  {
   "cell_type": "markdown",
   "id": "dd4c341d-6e2b-4d21-b8d6-81ac9dbf2cc7",
   "metadata": {},
   "source": [
    "**Objectives:**"
   ]
  },
  {
   "cell_type": "markdown",
   "id": "600982b7-4fc5-403a-85b6-501a95ac951b",
   "metadata": {},
   "source": [
    "- List popular languages that Data Scientists use\n",
    "- List commonly used libraries used by Data Scientists \n",
    "- List commonly used tools by Data Scientists"
   ]
  },
  {
   "cell_type": "markdown",
   "id": "89501036-b1e4-42d1-88de-825b0be53596",
   "metadata": {},
   "source": [
    "Some of the popular languages that Data Scientists use are:"
   ]
  },
  {
   "cell_type": "markdown",
   "id": "daedd7b1-ba75-4548-ba1e-e6e7c256b7ea",
   "metadata": {},
   "source": [
    "1. R\n",
    "2. Python\n",
    "3. SQL"
   ]
  },
  {
   "cell_type": "markdown",
   "id": "0bf46990-1aa7-4642-b051-2267aac7b918",
   "metadata": {},
   "source": [
    "Some of the commonly used libraries used by Data Scientists include:"
   ]
  },
  {
   "cell_type": "markdown",
   "id": "73ba5adf-45af-4f60-b187-be369edcbeba",
   "metadata": {},
   "source": [
    "1. NumPy\n",
    "2. pandas\n",
    "3. matplotlib\n",
    "4. Seaborn\n",
    "5. scikit-learn"
   ]
  },
  {
   "cell_type": "markdown",
   "id": "64a88cd8-b7b9-4ec6-854b-87ee60def373",
   "metadata": {},
   "source": [
    "|Data Science Tools|\n",
    "|------------------|\n",
    "|Jupyter Notebook|\n",
    "|RStudio|\n",
    "|Spyder|"
   ]
  },
  {
   "cell_type": "markdown",
   "id": "c5b39a0d-45f9-4d5c-9d8e-99e8ab953ec1",
   "metadata": {},
   "source": [
    "### Below are a few examples of evaluating arithmetic expressions in Python"
   ]
  },
  {
   "cell_type": "markdown",
   "id": "c4cbfec0-5d26-420f-a2d2-83b51bf9a794",
   "metadata": {},
   "source": [
    "This a simple arithmetic expression to mutiply then add integers"
   ]
  },
  {
   "cell_type": "code",
   "execution_count": 2,
   "id": "1984e077-00bf-4d37-94c8-2ed48cde6b8a",
   "metadata": {
    "tags": []
   },
   "outputs": [
    {
     "data": {
      "text/plain": [
       "17"
      ]
     },
     "execution_count": 2,
     "metadata": {},
     "output_type": "execute_result"
    }
   ],
   "source": [
    "(3*4)+5"
   ]
  },
  {
   "cell_type": "markdown",
   "id": "28956d0b-1f8b-4369-b240-2853613ce359",
   "metadata": {},
   "source": [
    "This will convert 200 minutes to hours by diving by 60"
   ]
  },
  {
   "cell_type": "code",
   "execution_count": 3,
   "id": "c193d823-a1c8-498e-be77-1c34f2e62e2a",
   "metadata": {
    "tags": []
   },
   "outputs": [
    {
     "data": {
      "text/plain": [
       "3.3333333333333335"
      ]
     },
     "execution_count": 3,
     "metadata": {},
     "output_type": "execute_result"
    }
   ],
   "source": [
    "(200/60)"
   ]
  },
  {
   "cell_type": "markdown",
   "id": "9a011b2f-f21f-48b6-b843-ff84603ae6ed",
   "metadata": {},
   "source": [
    "## Author"
   ]
  },
  {
   "cell_type": "markdown",
   "id": "3a7d9cbf-42d7-4267-a816-a70d5bc22802",
   "metadata": {},
   "source": [
    "Blas Atencio"
   ]
  },
  {
   "cell_type": "code",
   "execution_count": null,
   "id": "e9e8f8de-327d-42cc-b845-f06118391ebd",
   "metadata": {},
   "outputs": [],
   "source": []
  }
 ],
 "metadata": {
  "kernelspec": {
   "display_name": "Python",
   "language": "python",
   "name": "conda-env-python-py"
  },
  "language_info": {
   "codemirror_mode": {
    "name": "ipython",
    "version": 3
   },
   "file_extension": ".py",
   "mimetype": "text/x-python",
   "name": "python",
   "nbconvert_exporter": "python",
   "pygments_lexer": "ipython3",
   "version": "3.7.12"
  }
 },
 "nbformat": 4,
 "nbformat_minor": 5
}
